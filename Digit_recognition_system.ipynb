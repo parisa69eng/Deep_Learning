{
  "nbformat": 4,
  "nbformat_minor": 0,
  "metadata": {
    "colab": {
      "provenance": []
    },
    "kernelspec": {
      "name": "python3",
      "display_name": "Python 3"
    },
    "language_info": {
      "name": "python"
    }
  },
  "cells": [
    {
      "cell_type": "code",
      "execution_count": 1,
      "metadata": {
        "id": "fhc04JcqrZfN"
      },
      "outputs": [],
      "source": [
        "from tensorflow.keras.datasets import mnist"
      ]
    },
    {
      "cell_type": "markdown",
      "source": [],
      "metadata": {
        "id": "4NET0kELGm2w"
      }
    },
    {
      "cell_type": "markdown",
      "source": [
        "## Data preparation"
      ],
      "metadata": {
        "id": "kYfW6CEtwDOF"
      }
    },
    {
      "cell_type": "code",
      "source": [
        "# load and split data(train-test split)\n",
        "(train_image,train_labels),(test_image, test_labels) = mnist.load_data()"
      ],
      "metadata": {
        "colab": {
          "base_uri": "https://localhost:8080/"
        },
        "id": "lI0ladfvrxnM",
        "outputId": "c285dee9-5686-4b13-d2dd-5f4bedf99937"
      },
      "execution_count": 2,
      "outputs": [
        {
          "output_type": "stream",
          "name": "stdout",
          "text": [
            "Downloading data from https://storage.googleapis.com/tensorflow/tf-keras-datasets/mnist.npz\n",
            "11490434/11490434 [==============================] - 0s 0us/step\n"
          ]
        }
      ]
    },
    {
      "cell_type": "code",
      "source": [
        "# Inspect data\n",
        "\n",
        "import matplotlib.pyplot as plt\n",
        "\n",
        "\n",
        "print(type(train_image))\n",
        "\n",
        "print((train_image.shape))\n",
        "\n",
        "print(test_image.shape)\n",
        "\n",
        "\n",
        "\n",
        "#print(train_image[2])\n",
        "\n",
        "# data visualization\n",
        "\n",
        "plt.imshow(train_image[2], cmap = 'gray')\n",
        "print(train_labels[2])"
      ],
      "metadata": {
        "colab": {
          "base_uri": "https://localhost:8080/",
          "height": 499
        },
        "id": "vpKxoR2BxSr0",
        "outputId": "410668f6-a540-459b-ad90-f6afd3c83e1b"
      },
      "execution_count": 3,
      "outputs": [
        {
          "output_type": "stream",
          "name": "stdout",
          "text": [
            "<class 'numpy.ndarray'>\n",
            "(60000, 28, 28)\n",
            "(10000, 28, 28)\n",
            "4\n"
          ]
        },
        {
          "output_type": "display_data",
          "data": {
            "text/plain": [
              "<Figure size 640x480 with 1 Axes>"
            ],
            "image/png": "[encoded data removed]"
          },
          "metadata": {}
        }
      ]
    },
    {
      "cell_type": "markdown",
      "source": [
        "## Data Preprocessing"
      ],
      "metadata": {
        "id": "D1gaNeHyICa5"
      }
    },
    {
      "cell_type": "code",
      "source": [
        "# convert 2D image to 1D vector(39 min video2 jalase2 jahad)\n",
        "train_image = train_image.reshape((60000, 28 * 28))\n",
        "test_image = test_image.reshape((10000, 28 * 28))\n",
        "# normalize image values(picxel miarim bein 0,1)(x-min/(max-min))\n",
        "train_image = train_image.astype(\"float32\") / 255\n",
        "test_image = test_image.astype(\"float32\") / 255"
      ],
      "metadata": {
        "id": "_s52uTZGIGNE"
      },
      "execution_count": 4,
      "outputs": []
    },
    {
      "cell_type": "markdown",
      "source": [
        "## model design !!"
      ],
      "metadata": {
        "id": "Au03mpS7GpFV"
      }
    },
    {
      "cell_type": "code",
      "source": [
        "from tensorflow import keras\n",
        "from tensorflow.keras import layers\n",
        "model = keras.Sequential([\n",
        "                           layers.Dense(512, activation=\"relu\"),\n",
        "                           layers.Dense(10, activation=\"softmax\")\n",
        "                         ])"
      ],
      "metadata": {
        "id": "z8b0MvyhGsNe"
      },
      "execution_count": 5,
      "outputs": []
    },
    {
      "cell_type": "markdown",
      "source": [
        "## Training model !!!"
      ],
      "metadata": {
        "id": "zeXUEzOMHdxR"
      }
    },
    {
      "cell_type": "code",
      "source": [
        "model.compile(optimizer=\"rmsprop\",\n",
        "              loss=\"sparse_categorical_crossentropy\",\n",
        "              metrics=[\"accuracy\"])\n",
        "\n",
        "model.fit(train_image, train_labels, epochs=5, batch_size=128)"
      ],
      "metadata": {
        "colab": {
          "base_uri": "https://localhost:8080/"
        },
        "id": "CS9bPTGlHjTr",
        "outputId": "ea7db186-eb27-4fa5-9577-8e43b21de133"
      },
      "execution_count": 6,
      "outputs": [
        {
          "output_type": "stream",
          "name": "stdout",
          "text": [
            "Epoch 1/5\n",
            "469/469 [==============================] - 7s 13ms/step - loss: 0.2693 - accuracy: 0.9225\n",
            "Epoch 2/5\n",
            "469/469 [==============================] - 5s 10ms/step - loss: 0.1087 - accuracy: 0.9679\n",
            "Epoch 3/5\n",
            "469/469 [==============================] - 5s 10ms/step - loss: 0.0712 - accuracy: 0.9786\n",
            "Epoch 4/5\n",
            "469/469 [==============================] - 6s 12ms/step - loss: 0.0521 - accuracy: 0.9839\n",
            "Epoch 5/5\n",
            "469/469 [==============================] - 5s 10ms/step - loss: 0.0381 - accuracy: 0.9889\n"
          ]
        },
        {
          "output_type": "execute_result",
          "data": {
            "text/plain": [
              "<keras.src.callbacks.History at 0x79af2afea2f0>"
            ]
          },
          "metadata": {},
          "execution_count": 6
        }
      ]
    },
    {
      "cell_type": "markdown",
      "source": [
        "## Evalutaion !!"
      ],
      "metadata": {
        "id": "S-3pwoTfL6d4"
      }
    },
    {
      "cell_type": "code",
      "source": [
        "test_digits = test_image[0:10]\n",
        "print(len(test_digits))\n",
        "predictions = model.predict(test_digits)\n",
        "predictions[0]\n",
        "\n",
        "plt.imshow(test_digits[0].reshape(28,28))"
      ],
      "metadata": {
        "colab": {
          "base_uri": "https://localhost:8080/",
          "height": 482
        },
        "id": "ReX-hDVML9Mu",
        "outputId": "a036c881-040c-4346-c528-1bce84e403c9"
      },
      "execution_count": 7,
      "outputs": [
        {
          "output_type": "stream",
          "name": "stdout",
          "text": [
            "10\n",
            "1/1 [==============================] - 0s 144ms/step\n"
          ]
        },
        {
          "output_type": "execute_result",
          "data": {
            "text/plain": [
              "<matplotlib.image.AxesImage at 0x79af18509b40>"
            ]
          },
          "metadata": {},
          "execution_count": 7
        },
        {
          "output_type": "display_data",
          "data": {
            "text/plain": [
              "<Figure size 640x480 with 1 Axes>"
            ],
            "image/png": "[encoded data removed]"
          },
          "metadata": {}
        }
      ]
    },
    {
      "cell_type": "code",
      "source": [
        "predictions[0].argmax()"
      ],
      "metadata": {
        "colab": {
          "base_uri": "https://localhost:8080/"
        },
        "id": "7EbSvKRaNOTG",
        "outputId": "69881258-31fd-4d07-c37a-8bddf77b8f96"
      },
      "execution_count": 8,
      "outputs": [
        {
          "output_type": "execute_result",
          "data": {
            "text/plain": [
              "7"
            ]
          },
          "metadata": {},
          "execution_count": 8
        }
      ]
    },
    {
      "cell_type": "code",
      "source": [
        "test_loss, test_acc = model.evaluate(test_image, test_labels)\n",
        "print(f\"test_acc: {test_acc}\")\n",
        "print(f\"test_loss: {test_loss}\")"
      ],
      "metadata": {
        "colab": {
          "base_uri": "https://localhost:8080/"
        },
        "id": "BtDbYNESTOzH",
        "outputId": "418192b4-2e54-4d3a-d85e-2af4323e40b4"
      },
      "execution_count": 9,
      "outputs": [
        {
          "output_type": "stream",
          "name": "stdout",
          "text": [
            "313/313 [==============================] - 1s 3ms/step - loss: 0.0631 - accuracy: 0.9812\n",
            "test_acc: 0.9811999797821045\n",
            "test_loss: 0.06310027092695236\n"
          ]
        }
      ]
    }
  ]
}